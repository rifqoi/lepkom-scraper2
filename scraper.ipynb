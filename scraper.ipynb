{
 "cells": [
  {
   "cell_type": "code",
   "execution_count": 32,
   "metadata": {},
   "outputs": [],
   "source": [
    "import re\n",
    "from dotenv import load_dotenv\n",
    "from dotenv import dotenv_values\n",
    "from selenium import webdriver\n",
    "from selenium.webdriver.common.keys import Keys\n",
    "from selenium.webdriver.common.action_chains import ActionChains\n",
    "from selenium.webdriver.chrome.options import Options\n",
    "from selenium.webdriver.common.by import By\n",
    "from bs3 import BeautifulSoup"
   ]
  },
  {
   "cell_type": "code",
   "execution_count": 3,
   "metadata": {},
   "outputs": [],
   "source": [
    "load_dotenv()\n",
    "dotenv = dotenv_values()\n",
    "USERNAME = dotenv.get('USERNAME')\n",
    "PASSWORD = dotenv.get('PASSWORD')"
   ]
  },
  {
   "cell_type": "code",
   "execution_count": 34,
   "metadata": {},
   "outputs": [],
   "source": [
    "# Web Driver\n",
    "CHROMEDRIVER_PATH = './chromedriver'\n",
    "WINDOW_SIZE = '1920,1080'\n",
    "\n",
    "driver_options = Options()\n",
    "# driver_options.add_argument('--headless')\n",
    "driver_options.add_argument(f\"--window-size={WINDOW_SIZE}\")\n",
    "\n",
    "browser = webdriver.Chrome(executable_path=CHROMEDRIVER_PATH,\n",
    "                           options=driver_options)\n",
    "\n",
    "url = \"https://kursusvmlepkom.gunadarma.ac.id/login/index.php\"\n",
    "browser.get(url)\n"
   ]
  },
  {
   "cell_type": "code",
   "execution_count": 35,
   "metadata": {},
   "outputs": [],
   "source": [
    "username = browser.find_element_by_xpath(\n",
    "            \"//*[@id='username']\").send_keys(USERNAME)  # Username Lepkom\n",
    "password = browser.find_element_by_xpath(\n",
    "    \"//*[@id='password']\").send_keys(PASSWORD)  # Password Lepkom\n",
    "enter_login = browser.find_element_by_xpath(\n",
    "    \"//*[@id='loginbtn']\").send_keys(Keys.ENTER)  # Enter"
   ]
  },
  {
   "cell_type": "code",
   "execution_count": 73,
   "metadata": {},
   "outputs": [
    {
     "data": {
      "text/plain": [
       "{'DBMS Testing': <selenium.webdriver.remote.webelement.WebElement (session=\"55b531d2db69f958b107a28934ee9c2f\", element=\"f23b11e6-b534-44b3-9256-6ac7f39d3da8\")>,\n",
       " '1BWIR181153K - WINDOWS SERVER FOR BEGINNER': <selenium.webdriver.remote.webelement.WebElement (session=\"55b531d2db69f958b107a28934ee9c2f\", element=\"3d108ab2-2521-4d7f-9622-af9ef5720d55\")>,\n",
       " '1IGGR181250K - GOLANG FOR INTERMEDIATE': <selenium.webdriver.remote.webelement.WebElement (session=\"55b531d2db69f958b107a28934ee9c2f\", element=\"ea75395e-52f8-4334-84c3-bf40e4b86367\")>,\n",
       " '1FWER181442K - FUNDAMENTAL WEB': <selenium.webdriver.remote.webelement.WebElement (session=\"55b531d2db69f958b107a28934ee9c2f\", element=\"28b4dee6-97f7-4830-9b3a-89f18880e033\")>,\n",
       " '1IGGR181611K - GOLANG FOR INTERMEDIATE': <selenium.webdriver.remote.webelement.WebElement (session=\"55b531d2db69f958b107a28934ee9c2f\", element=\"0629093a-bc79-47b5-905d-6eb917ce8678\")>,\n",
       " '3BGGR171029L - GOLANG FOR BEGINNER (2KA27)': <selenium.webdriver.remote.webelement.WebElement (session=\"55b531d2db69f958b107a28934ee9c2f\", element=\"8baccf57-518a-4a76-994f-a3ad1763021c\")>}"
      ]
     },
     "execution_count": 73,
     "metadata": {},
     "output_type": "execute_result"
    }
   ],
   "source": [
    "def get_course_list(browser):\n",
    "    \"\"\"Get list of all courses.\"\"\"\n",
    "    courses = browser.find_elements(By.CLASS_NAME, \"coursebox\")\n",
    "    course_names = {\n",
    "        course.find_element_by_tag_name(\"a\").text:\n",
    "        course.find_element_by_tag_name(\"a\")\n",
    "        for course in courses\n",
    "        if not course.find_element_by_tag_name(\"a\").text.startswith(\"ACTIVITY\")\n",
    "    }\n",
    "    return course_names\n",
    "course_names = get_course_list(browser=browser)\n",
    "course_names"
   ]
  },
  {
   "cell_type": "code",
   "execution_count": 74,
   "metadata": {},
   "outputs": [],
   "source": [
    "course = course_names['3BGGR171029L - GOLANG FOR BEGINNER (2KA27)']\n",
    "# browser.send_keys(course)\n",
    "course.send_keys(Keys.ENTER)"
   ]
  },
  {
   "cell_type": "code",
   "execution_count": 18,
   "metadata": {},
   "outputs": [
    {
     "data": {
      "text/plain": [
       "<selenium.webdriver.remote.webelement.WebElement (session=\"a99864d79c85a06d65ae33b9cf43ab08\", element=\"58055da3-f3ac-4359-9d61-778744cb2a29\")>"
      ]
     },
     "execution_count": 18,
     "metadata": {},
     "output_type": "execute_result"
    }
   ],
   "source": [
    "browser.find_element_by_id(\"section-2\")"
   ]
  },
  {
   "cell_type": "code",
   "execution_count": 71,
   "metadata": {},
   "outputs": [],
   "source": [
    "browser.back()"
   ]
  },
  {
   "cell_type": "code",
   "execution_count": 109,
   "metadata": {},
   "outputs": [
    {
     "data": {
      "text/plain": [
       "{'Pertemuan 1': {'Pre Test 1': <selenium.webdriver.remote.webelement.WebElement (session=\"55b531d2db69f958b107a28934ee9c2f\", element=\"41573d7f-9600-474a-83a9-c4e3943198c8\")>,\n",
       "  'Post Test 1': <selenium.webdriver.remote.webelement.WebElement (session=\"55b531d2db69f958b107a28934ee9c2f\", element=\"bbe24113-8d04-4465-8868-b72c9b40baa3\")>,\n",
       "  'Upload Activity Pertemuan 1': <selenium.webdriver.remote.webelement.WebElement (session=\"55b531d2db69f958b107a28934ee9c2f\", element=\"bf165034-4145-4fb7-9b62-6eb0bff0a2aa\")>,\n",
       "  'Materi Minggu 1': <selenium.webdriver.remote.webelement.WebElement (session=\"55b531d2db69f958b107a28934ee9c2f\", element=\"5a68ba2a-b3cf-459c-8494-8dfb7e76d262\")>},\n",
       " 'Pertemuan 2': {'Pre Test 2': <selenium.webdriver.remote.webelement.WebElement (session=\"55b531d2db69f958b107a28934ee9c2f\", element=\"60dd1e37-b3e3-452e-b695-3ddc7fac44a5\")>,\n",
       "  'Post Test 2': <selenium.webdriver.remote.webelement.WebElement (session=\"55b531d2db69f958b107a28934ee9c2f\", element=\"328f7b06-1055-4787-9b7c-90ca45a312f9\")>,\n",
       "  'Upload Activity Pertemuan 2': <selenium.webdriver.remote.webelement.WebElement (session=\"55b531d2db69f958b107a28934ee9c2f\", element=\"5cfbe9c4-38b7-4936-8bd4-eec582fc546e\")>,\n",
       "  'Materi Minggu 2': <selenium.webdriver.remote.webelement.WebElement (session=\"55b531d2db69f958b107a28934ee9c2f\", element=\"31f2bde4-8659-465b-964a-6cf1c0b0576f\")>},\n",
       " 'Pertemuan 3': {'Pre Test 3': <selenium.webdriver.remote.webelement.WebElement (session=\"55b531d2db69f958b107a28934ee9c2f\", element=\"2cabc266-d04e-4609-8815-02e833108d02\")>,\n",
       "  'Post Test 3': <selenium.webdriver.remote.webelement.WebElement (session=\"55b531d2db69f958b107a28934ee9c2f\", element=\"61aa6808-cd04-4f8c-8737-1bd95fe08473\")>,\n",
       "  'Upload Activity Pertemuan 3': <selenium.webdriver.remote.webelement.WebElement (session=\"55b531d2db69f958b107a28934ee9c2f\", element=\"ada25275-f199-49c9-9c75-a0c8ac538962\")>,\n",
       "  'Materi Minggu 3': <selenium.webdriver.remote.webelement.WebElement (session=\"55b531d2db69f958b107a28934ee9c2f\", element=\"61fd62d5-8999-47bb-90da-d21c52d7ff62\")>},\n",
       " 'Pertemuan 4': {'Pre Test 4': <selenium.webdriver.remote.webelement.WebElement (session=\"55b531d2db69f958b107a28934ee9c2f\", element=\"54d442b6-fb14-4f9d-be65-c7e02aca7b94\")>,\n",
       "  'Post Test 4': <selenium.webdriver.remote.webelement.WebElement (session=\"55b531d2db69f958b107a28934ee9c2f\", element=\"ad3c1a55-4e91-4e43-beb3-d8bc80ce7a00\")>,\n",
       "  'Upload Activity Pertemuan 4': <selenium.webdriver.remote.webelement.WebElement (session=\"55b531d2db69f958b107a28934ee9c2f\", element=\"28fa7c90-34aa-47e5-b99a-bed925374f88\")>,\n",
       "  'Materi Minggu 4': <selenium.webdriver.remote.webelement.WebElement (session=\"55b531d2db69f958b107a28934ee9c2f\", element=\"61a966c9-61f5-42f6-8d98-40a9593af54c\")>},\n",
       " 'Pertemuan 5': {'Pre Test 5': <selenium.webdriver.remote.webelement.WebElement (session=\"55b531d2db69f958b107a28934ee9c2f\", element=\"53e3d286-6f17-436d-85d6-9a755d35923d\")>,\n",
       "  'Post Test 5': <selenium.webdriver.remote.webelement.WebElement (session=\"55b531d2db69f958b107a28934ee9c2f\", element=\"bbc762d3-6cdf-433a-8b7b-a2c1a7e11c16\")>,\n",
       "  'Upload Activity Pertemuan 5': <selenium.webdriver.remote.webelement.WebElement (session=\"55b531d2db69f958b107a28934ee9c2f\", element=\"9f147fde-5adb-407e-94a1-ced00fc669cc\")>,\n",
       "  'Materi Minggu 5': <selenium.webdriver.remote.webelement.WebElement (session=\"55b531d2db69f958b107a28934ee9c2f\", element=\"62b826b1-fe48-4554-ad6e-cf5d749384a7\")>},\n",
       " 'Pertemuan 6': {'Pre Test 6': <selenium.webdriver.remote.webelement.WebElement (session=\"55b531d2db69f958b107a28934ee9c2f\", element=\"a9f2cb7b-b632-4729-ae8c-f7434eebf576\")>,\n",
       "  'Post Test 6': <selenium.webdriver.remote.webelement.WebElement (session=\"55b531d2db69f958b107a28934ee9c2f\", element=\"2ec42344-cc7b-44fe-a655-353b0b776d6b\")>,\n",
       "  'Upload Activity Pertemuan 6': <selenium.webdriver.remote.webelement.WebElement (session=\"55b531d2db69f958b107a28934ee9c2f\", element=\"c85869eb-c633-406e-b304-2fa69950c1f4\")>,\n",
       "  'Materi Minggu 6': <selenium.webdriver.remote.webelement.WebElement (session=\"55b531d2db69f958b107a28934ee9c2f\", element=\"a95db747-ed1d-4251-9804-97734f09bec4\")>},\n",
       " 'Pertemuan 7': {'Pre Test 7': <selenium.webdriver.remote.webelement.WebElement (session=\"55b531d2db69f958b107a28934ee9c2f\", element=\"680bf291-7b8f-4a63-97b4-3133282a9d85\")>,\n",
       "  'Post Test 7': <selenium.webdriver.remote.webelement.WebElement (session=\"55b531d2db69f958b107a28934ee9c2f\", element=\"05ea506c-1f65-403b-b965-f72398a7556d\")>,\n",
       "  'Upload Activity Pertemuan 7': <selenium.webdriver.remote.webelement.WebElement (session=\"55b531d2db69f958b107a28934ee9c2f\", element=\"151fccbc-4ac6-4cd6-b748-edd408dc78d6\")>,\n",
       "  'Materi Minggu 7': <selenium.webdriver.remote.webelement.WebElement (session=\"55b531d2db69f958b107a28934ee9c2f\", element=\"ddaf29f3-5302-436f-ae25-65f470fc2b7d\")>},\n",
       " 'Pertemuan 8': {'Pre Test 8': <selenium.webdriver.remote.webelement.WebElement (session=\"55b531d2db69f958b107a28934ee9c2f\", element=\"77e698d9-d2d0-4c18-a10e-ee336ee41e9f\")>,\n",
       "  'Post Test 8': <selenium.webdriver.remote.webelement.WebElement (session=\"55b531d2db69f958b107a28934ee9c2f\", element=\"47d4b825-9001-43fe-b4f7-25556375e0e4\")>,\n",
       "  'Link Activity Golang for Beginner': <selenium.webdriver.remote.webelement.WebElement (session=\"55b531d2db69f958b107a28934ee9c2f\", element=\"c996d702-90ab-4831-a12f-561ad7920d41\")>,\n",
       "  'Upload Activity Pertemuan 8': <selenium.webdriver.remote.webelement.WebElement (session=\"55b531d2db69f958b107a28934ee9c2f\", element=\"264bb0e1-db0c-4e2d-9cdc-93ccddb1e9fa\")>,\n",
       "  'Materi Minggu 8': <selenium.webdriver.remote.webelement.WebElement (session=\"55b531d2db69f958b107a28934ee9c2f\", element=\"f38f306e-f933-45d0-9c9a-38c7aea78d43\")>},\n",
       " 'Pertemuan 9': {'Ujian 1': <selenium.webdriver.remote.webelement.WebElement (session=\"55b531d2db69f958b107a28934ee9c2f\", element=\"d870f698-087d-4cd5-af61-69d1c4528d19\")>,\n",
       "  'Ujian 2': <selenium.webdriver.remote.webelement.WebElement (session=\"55b531d2db69f958b107a28934ee9c2f\", element=\"92b132be-b247-4ab0-afa3-9a302d3236af\")>,\n",
       "  'Ujian 3': <selenium.webdriver.remote.webelement.WebElement (session=\"55b531d2db69f958b107a28934ee9c2f\", element=\"ee1ebfa1-7c41-4a28-8de7-11d9b7ec386c\")>}}"
      ]
     },
     "execution_count": 109,
     "metadata": {},
     "output_type": "execute_result"
    }
   ],
   "source": [
    "def get_pertemuan(browser):\n",
    "    sections = browser.find_elements_by_css_selector(\"[id^='section']\")\n",
    "    sections = [section for section in sections if section.text.lower().startswith((\"pertemuan\", \"ujian\"))]\n",
    "    return sections\n",
    "\n",
    "def get_quiz(pertemuan):\n",
    "    instances = pertemuan.find_elements_by_class_name(\"instancename\")\n",
    "    buttons = []\n",
    "    regex = re.compile(r'([\\w\\s]+)\\n')\n",
    "    for instance in instances:\n",
    "        button_name = instance.text\n",
    "        button_name = regex.search(button_name).group(1)\n",
    "        button = (button_name, instance)\n",
    "        buttons.append(button)\n",
    "    \n",
    "    return buttons\n",
    "\n",
    "def get_pertemuan_quiz(browser):\n",
    "    list_pertemuan = get_pertemuan(browser)\n",
    "    quiz_dan_pertemuan = {}\n",
    "\n",
    "    for idx, pertemuan in enumerate(list_pertemuan,1):\n",
    "        quiz_dan_pertemuan['Pertemuan '+str(idx)] = {}\n",
    "        for nama_quiz, element in get_quiz(pertemuan):\n",
    "            quiz_dan_pertemuan['Pertemuan '+str(idx)][nama_quiz] = element\n",
    "\n",
    "    return quiz_dan_pertemuan\n",
    "\n",
    "\n",
    "cek = get_pertemuan_quiz(browser)\n",
    "cek"
   ]
  },
  {
   "cell_type": "markdown",
   "metadata": {},
   "source": []
  },
  {
   "cell_type": "code",
   "execution_count": 63,
   "metadata": {},
   "outputs": [
    {
     "data": {
      "text/plain": [
       "['Pre Test 1\\nQuiz',\n",
       " 'Post Test 1\\nQuiz',\n",
       " 'Upload Activity\\nAssignment',\n",
       " 'Materi Minggu 1\\nURL']"
      ]
     },
     "execution_count": 63,
     "metadata": {},
     "output_type": "execute_result"
    }
   ],
   "source": [
    "\n",
    "section = browser.find_element_by_id(\"section-2\").find_elements_by_class_name(\"instancename\")\n",
    "# actions = ActionChains(browser)\n",
    "\n",
    "# actions.move_to_element(section)\n",
    "# actions.click(section)\n",
    "# actions.perform()\n",
    "[instance.text for instance in section]"
   ]
  },
  {
   "cell_type": "code",
   "execution_count": null,
   "metadata": {},
   "outputs": [],
   "source": []
  }
 ],
 "metadata": {
  "interpreter": {
   "hash": "d755c94784f3ffb36b8cad2a61348f4560e01148862098b9dee2e6c38e70b98d"
  },
  "kernelspec": {
   "display_name": "Python 3.10.0 ('scraper')",
   "language": "python",
   "name": "python3"
  },
  "language_info": {
   "codemirror_mode": {
    "name": "ipython",
    "version": 3
   },
   "file_extension": ".py",
   "mimetype": "text/x-python",
   "name": "python",
   "nbconvert_exporter": "python",
   "pygments_lexer": "ipython3",
   "version": "3.10.0"
  },
  "orig_nbformat": 4
 },
 "nbformat": 4,
 "nbformat_minor": 2
}
